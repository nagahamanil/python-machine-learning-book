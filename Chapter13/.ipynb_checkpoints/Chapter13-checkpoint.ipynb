{
 "cells": [
  {
   "cell_type": "code",
   "execution_count": 1,
   "metadata": {},
   "outputs": [
    {
     "name": "stdout",
     "output_type": "stream",
     "text": [
      "WARNING:tensorflow:From /Users/nagahamanil/.pyenv/versions/3.6.7/lib/python3.6/site-packages/tensorflow/python/compat/compat.py:175: disable_resource_variables (from tensorflow.python.ops.variable_scope) is deprecated and will be removed in a future version.\n",
      "Instructions for updating:\n",
      "non-resource variables are not supported in the long term\n",
      "WARNING:tensorflow:From /Users/nagahamanil/.pyenv/versions/3.6.7/lib/python3.6/site-packages/tensorflow/python/framework/op_def_library.py:263: colocate_with (from tensorflow.python.framework.ops) is deprecated and will be removed in a future version.\n",
      "Instructions for updating:\n",
      "Colocations handled automatically by placer.\n",
      "x= 1.0 --> z= 2.7\n",
      "x= 0.6 --> z= 1.9\n",
      "x=-1.8 --> z=-2.9\n"
     ]
    }
   ],
   "source": [
    "# p.403 Chapter13 TensorFlow\n",
    "import tensorflow.compat.v1 as tf\n",
    "tf.disable_v2_behavior()\n",
    "\n",
    "## 計算グラフを作成\n",
    "g = tf.Graph()\n",
    "with g.as_default():\n",
    "    x = tf.placeholder(dtype=tf.float32, shape=(None), name='x')\n",
    "    w = tf.Variable(2.0, name='weight')\n",
    "    b = tf.Variable(0.7, name='bias')\n",
    "    z = w * x + b\n",
    "    init = tf.global_variables_initializer()\n",
    "    \n",
    "## セッションを作成し、計算グラフgを渡す\n",
    "with tf.Session(graph=g) as sess:\n",
    "    ## wとbを初期化\n",
    "    sess.run(init)\n",
    "    ## zを評価\n",
    "    for t in [1.0, 0.6, -1.8]:\n",
    "        print('x=%4.1f --> z=%4.1f' % (t, sess.run(z, feed_dict={x:t})))"
   ]
  },
  {
   "cell_type": "code",
   "execution_count": 2,
   "metadata": {},
   "outputs": [
    {
     "name": "stdout",
     "output_type": "stream",
     "text": [
      "[2.7 4.7 6.7]\n"
     ]
    }
   ],
   "source": [
    "with tf.Session(graph=g) as sess:\n",
    "    sess.run(init)\n",
    "    print(sess.run(z, feed_dict={x:[1., 2., 3.]}))"
   ]
  },
  {
   "cell_type": "code",
   "execution_count": 3,
   "metadata": {},
   "outputs": [
    {
     "name": "stdout",
     "output_type": "stream",
     "text": [
      "input shape:  (3, 2, 3)\n",
      "Reshaped:\n",
      " [[ 0.  1.  2.  3.  4.  5.]\n",
      " [ 6.  7.  8.  9. 10. 11.]\n",
      " [12. 13. 14. 15. 16. 17.]]\n",
      "Column Sums:\n",
      " [18. 21. 24. 27. 30. 33.]\n",
      "Column Means:\n",
      " [ 6.  7.  8.  9. 10. 11.]\n"
     ]
    }
   ],
   "source": [
    "import tensorflow.compat.v1 as tf\n",
    "tf.disable_v2_behavior()\n",
    "import numpy as np\n",
    "\n",
    "g = tf.Graph()\n",
    "\n",
    "with g.as_default():\n",
    "    x = tf.placeholder(dtype=tf.float32, shape=(None, 2, 3), name='input_x')\n",
    "    x2 = tf.reshape(x, shape=(-1, 6), name='x2')\n",
    "    \n",
    "    ## 各列の合計を求める\n",
    "    xsum = tf.reduce_sum(x2, axis=0, name='col_sum')\n",
    "    \n",
    "    ## 各列の平均を求める\n",
    "    xmean = tf.reduce_mean(x2, axis=0, name='col_mean')\n",
    "    \n",
    "with tf.Session(graph=g) as sess:\n",
    "    x_array = np.arange(18).reshape(3, 2, 3)\n",
    "    print('input shape: ', x_array.shape)\n",
    "    print('Reshaped:\\n', sess.run(x2, feed_dict={x:x_array}))\n",
    "    print('Column Sums:\\n', sess.run(xsum, feed_dict={x:x_array}))\n",
    "    print('Column Means:\\n', sess.run(xmean, feed_dict={x:x_array}))"
   ]
  },
  {
   "cell_type": "code",
   "execution_count": 4,
   "metadata": {},
   "outputs": [],
   "source": [
    "import tensorflow.compat.v1 as tf\n",
    "tf.disable_v2_behavior()\n",
    "\n",
    "import numpy as np\n",
    "\n",
    "X_train = np.arange(10).reshape((10, 1))\n",
    "y_train = np.array([1.0, 1.3, 3.1, 2.0, 5.0, 6.3, 6.6, 7.4, 8.0, 9.0])"
   ]
  },
  {
   "cell_type": "code",
   "execution_count": 5,
   "metadata": {},
   "outputs": [],
   "source": [
    "class TfLinreg(object):\n",
    "    \n",
    "    def __init__(self, x_dim, learning_rate=0.01, random_seed=None):\n",
    "        self.x_dim = x_dim\n",
    "        self.learning_rate = learning_rate\n",
    "        self.g = tf.Graph()\n",
    "        \n",
    "        ## モデルを構築\n",
    "        with self.g.as_default():\n",
    "            ## グラフレベルの乱数シードを設定\n",
    "            tf.set_random_seed(random_seed)\n",
    "            \n",
    "            self.build()\n",
    "            ## 変数のイニシャライザを作成\n",
    "            self.init_op = tf.global_variables_initializer()\n",
    "            \n",
    "    def build(self):\n",
    "        ## 入力用のプレースホルダを定義\n",
    "        self.X = tf.placeholder(dtype=tf.float32,\n",
    "                               shape=(None, self.x_dim),\n",
    "                               name='x_input')\n",
    "        self.y = tf.placeholder(dtype=tf.float32,\n",
    "                               shape=(None),\n",
    "                               name='y_input')\n",
    "        print(self.X)\n",
    "        print(self.y)\n",
    "        \n",
    "        # 重み行列とバイアスベクトルを定義\n",
    "        w = tf.Variable(tf.zeros(shape=(1)), name='weight')\n",
    "        b = tf.Variable(tf.zeros(shape=(1)), name='bias')\n",
    "        print(w)\n",
    "        print(b)\n",
    "        \n",
    "        self.z_net = tf.squeeze(w * self.X + b, name='z_net')\n",
    "        print(self.z_net)\n",
    "        \n",
    "        sqr_errors = tf.square(self.y - self.z_net, name='sqr_errors')\n",
    "        print(sqr_errors)\n",
    "        self.mean_cost = tf.reduce_mean(sqr_errors, name='mean_cost')\n",
    "        \n",
    "        # オプティマイザを作成\n",
    "        optimizer = tf.train.GradientDescentOptimizer(\n",
    "                    learning_rate=self.learning_rate,\n",
    "                    name='GradientDescent')\n",
    "        self.optimizer = optimizer.minimize(self.mean_cost)"
   ]
  },
  {
   "cell_type": "code",
   "execution_count": 6,
   "metadata": {},
   "outputs": [
    {
     "name": "stdout",
     "output_type": "stream",
     "text": [
      "Tensor(\"x_input:0\", shape=(?, 1), dtype=float32)\n",
      "Tensor(\"y_input:0\", dtype=float32)\n",
      "<tf.Variable 'weight:0' shape=(1,) dtype=float32_ref>\n",
      "<tf.Variable 'bias:0' shape=(1,) dtype=float32_ref>\n",
      "Tensor(\"z_net:0\", dtype=float32)\n",
      "Tensor(\"sqr_errors:0\", dtype=float32)\n",
      "WARNING:tensorflow:From /Users/nagahamanil/.pyenv/versions/3.6.7/lib/python3.6/site-packages/tensorflow/python/ops/math_ops.py:3066: to_int32 (from tensorflow.python.ops.math_ops) is deprecated and will be removed in a future version.\n",
      "Instructions for updating:\n",
      "Use tf.cast instead.\n"
     ]
    }
   ],
   "source": [
    "lrmodel = TfLinreg(x_dim = X_train.shape[1], learning_rate=0.01)"
   ]
  },
  {
   "cell_type": "code",
   "execution_count": 7,
   "metadata": {},
   "outputs": [],
   "source": [
    "def train_linreg(sess, model, X_train, y_train, num_epochs=10):\n",
    "    ## すべての変数を初期化：W, b\n",
    "    sess.run(model.init_op)\n",
    "    \n",
    "    training_costs = []\n",
    "    for i in range(num_epochs):\n",
    "        _, cost = sess.run([model.optimizer, model.mean_cost],\n",
    "                          feed_dict={model.X:X_train, model.y:y_train})\n",
    "        training_costs.append(cost)\n",
    "    return training_costs"
   ]
  },
  {
   "cell_type": "code",
   "execution_count": 8,
   "metadata": {},
   "outputs": [],
   "source": [
    "sess = tf.Session(graph=lrmodel.g)\n",
    "training_costs = train_linreg(sess, lrmodel, X_train, y_train)"
   ]
  },
  {
   "cell_type": "code",
   "execution_count": 9,
   "metadata": {},
   "outputs": [
    {
     "data": {
      "image/png": "[encoded data removed]",
      "text/plain": [
       "<Figure size 432x288 with 1 Axes>"
      ]
     },
     "metadata": {
      "needs_background": "light"
     },
     "output_type": "display_data"
    }
   ],
   "source": [
    "import matplotlib.pyplot as plt\n",
    "%matplotlib inline\n",
    "\n",
    "plt.plot(range(1, len(training_costs) + 1), training_costs)\n",
    "plt.tight_layout()\n",
    "plt.xlabel('Epoch')\n",
    "plt.ylabel('Training Cost')\n",
    "plt.show()"
   ]
  },
  {
   "cell_type": "code",
   "execution_count": 10,
   "metadata": {},
   "outputs": [],
   "source": [
    "def predict_linreg(sess, model, X_test):\n",
    "    y_pred = sess.run(model.z_net, feed_dict={model.X:X_test})\n",
    "    return y_pred"
   ]
  },
  {
   "cell_type": "code",
   "execution_count": 11,
   "metadata": {},
   "outputs": [
    {
     "data": {
      "image/png": "[encoded data removed]",
      "text/plain": [
       "<Figure size 432x288 with 1 Axes>"
      ]
     },
     "metadata": {
      "needs_background": "light"
     },
     "output_type": "display_data"
    }
   ],
   "source": [
    "plt.scatter(X_train, y_train, marker='s', s=50, label='Training Data')\n",
    "plt.plot(range(X_train.shape[0]),\n",
    "              predict_linreg(sess, lrmodel, X_train),\n",
    "              color='gray', marker='o',\n",
    "              markersize=6, linewidth=3,\n",
    "              label='LinReg Model')\n",
    "plt.xlabel('x')\n",
    "plt.ylabel('y')\n",
    "plt.legend()\n",
    "plt.tight_layout()\n",
    "plt.show()"
   ]
  },
  {
   "cell_type": "code",
   "execution_count": 12,
   "metadata": {},
   "outputs": [],
   "source": [
    "import os\n",
    "import struct\n",
    "import numpy as np\n",
    "\n",
    "def load_mnist(path, kind='train'):\n",
    "    \"\"\"MNISTデータをpathからロード\"\"\"\n",
    "    # 引数に指定したパスを結合(ラベルや画像のパスを作成)\n",
    "    labels_path = os.path.join(path, '%s-labels-idx1-ubyte' % kind)\n",
    "    images_path = os.path.join(path, '%s-images-idx3-ubyte' % kind)\n",
    "    \n",
    "    # ファイルを読み込む：\n",
    "    # 引数にファイル、モードを指定(rbは読み込みのバイナリモード)\n",
    "    with open(labels_path, 'rb') as lbpath:\n",
    "        # バイナリを文字列に変換：unpack関数の引数にフォーマット、8バイト分の\n",
    "        # バイナリデータを指定してマジックナンバー、アイテムの個数を読み込む\n",
    "        magic, n = struct.unpack('>II', lbpath.read(8))\n",
    "        # ファイルからラベルを読み込み配列を構築：fromfile関数の引数に\n",
    "        # ファイル、配列のデータ形式を指定\n",
    "        labels = np.fromfile(lbpath, dtype=np.uint8)\n",
    "        \n",
    "    with open(images_path, 'rb') as imgpath:\n",
    "        magic, num, rows, cols = struct.unpack(\">IIII\", imgpath.read(16))\n",
    "        # 画像ピクセル情報の配列のサイズを変更\n",
    "        # (行数：ラベルのサイズ、列数：特徴量の個数)\n",
    "        images = np.fromfile(imgpath, dtype=np.uint8).reshape(len(labels), 784)\n",
    "        images = ((images / 255.) - .5) * 2\n",
    "    return images, labels"
   ]
  },
  {
   "cell_type": "code",
   "execution_count": 13,
   "metadata": {},
   "outputs": [
    {
     "name": "stdout",
     "output_type": "stream",
     "text": [
      "Rows: 60000, Columns: 784\n",
      "Rows: 10000, Columns: 784\n",
      "(60000, 784) (60000,)\n",
      "(10000, 784) (10000,)\n"
     ]
    }
   ],
   "source": [
    "## データを読み込む\n",
    "X_train, y_train = load_mnist('.', kind='train')\n",
    "print('Rows: %d, Columns: %d' %(X_train.shape[0], X_train.shape[1]))\n",
    "\n",
    "X_test, y_test = load_mnist('.', kind='t10k')\n",
    "print('Rows: %d, Columns: %d' %(X_test.shape[0], X_test.shape[1]))\n",
    "\n",
    "## 標準化と正規化\n",
    "mean_vals = np.mean(X_train, axis=0)\n",
    "std_val = np.std(X_train)\n",
    "\n",
    "X_train_centered = (X_train - mean_vals) / std_val\n",
    "X_test_centered = (X_test - mean_vals) / std_val\n",
    "del X_train, X_test\n",
    "print(X_train_centered.shape, y_train.shape)\n",
    "\n",
    "print(X_test_centered.shape, y_test.shape)"
   ]
  },
  {
   "cell_type": "code",
   "execution_count": 14,
   "metadata": {},
   "outputs": [
    {
     "name": "stdout",
     "output_type": "stream",
     "text": [
      "WARNING:tensorflow:From <ipython-input-14-e7c2a9b45942>:22: dense (from tensorflow.python.layers.core) is deprecated and will be removed in a future version.\n",
      "Instructions for updating:\n",
      "Use keras.layers.dense instead.\n",
      "WARNING:tensorflow:From /Users/nagahamanil/.pyenv/versions/3.6.7/lib/python3.6/site-packages/tensorflow/python/ops/losses/losses_impl.py:209: to_float (from tensorflow.python.ops.math_ops) is deprecated and will be removed in a future version.\n",
      "Instructions for updating:\n",
      "Use tf.cast instead.\n",
      " -- Epoch  1  Avg. Training Loss: 1.5573\n",
      " -- Epoch  2  Avg. Training Loss: 1.2532\n",
      " -- Epoch  3  Avg. Training Loss: 1.0854\n",
      " -- Epoch  4  Avg. Training Loss: 0.9738\n",
      " -- Epoch  5  Avg. Training Loss: 0.8924\n",
      " -- Epoch  6  Avg. Training Loss: 0.8296\n",
      " -- Epoch  7  Avg. Training Loss: 0.7794\n",
      " -- Epoch  8  Avg. Training Loss: 0.7381\n",
      " -- Epoch  9  Avg. Training Loss: 0.7032\n",
      " -- Epoch 10  Avg. Training Loss: 0.6734\n",
      " -- Epoch 11  Avg. Training Loss: 0.6475\n",
      " -- Epoch 12  Avg. Training Loss: 0.6247\n",
      " -- Epoch 13  Avg. Training Loss: 0.6045\n",
      " -- Epoch 14  Avg. Training Loss: 0.5864\n",
      " -- Epoch 15  Avg. Training Loss: 0.5700\n",
      " -- Epoch 16  Avg. Training Loss: 0.5551\n",
      " -- Epoch 17  Avg. Training Loss: 0.5415\n",
      " -- Epoch 18  Avg. Training Loss: 0.5290\n",
      " -- Epoch 19  Avg. Training Loss: 0.5175\n",
      " -- Epoch 20  Avg. Training Loss: 0.5068\n",
      " -- Epoch 21  Avg. Training Loss: 0.4968\n",
      " -- Epoch 22  Avg. Training Loss: 0.4875\n",
      " -- Epoch 23  Avg. Training Loss: 0.4788\n",
      " -- Epoch 24  Avg. Training Loss: 0.4706\n",
      " -- Epoch 25  Avg. Training Loss: 0.4629\n",
      " -- Epoch 26  Avg. Training Loss: 0.4556\n",
      " -- Epoch 27  Avg. Training Loss: 0.4487\n",
      " -- Epoch 28  Avg. Training Loss: 0.4422\n",
      " -- Epoch 29  Avg. Training Loss: 0.4359\n",
      " -- Epoch 30  Avg. Training Loss: 0.4300\n",
      " -- Epoch 31  Avg. Training Loss: 0.4243\n",
      " -- Epoch 32  Avg. Training Loss: 0.4189\n",
      " -- Epoch 33  Avg. Training Loss: 0.4138\n",
      " -- Epoch 34  Avg. Training Loss: 0.4088\n",
      " -- Epoch 35  Avg. Training Loss: 0.4041\n",
      " -- Epoch 36  Avg. Training Loss: 0.3995\n",
      " -- Epoch 37  Avg. Training Loss: 0.3951\n",
      " -- Epoch 38  Avg. Training Loss: 0.3909\n",
      " -- Epoch 39  Avg. Training Loss: 0.3868\n",
      " -- Epoch 40  Avg. Training Loss: 0.3829\n",
      " -- Epoch 41  Avg. Training Loss: 0.3791\n",
      " -- Epoch 42  Avg. Training Loss: 0.3754\n",
      " -- Epoch 43  Avg. Training Loss: 0.3718\n",
      " -- Epoch 44  Avg. Training Loss: 0.3684\n",
      " -- Epoch 45  Avg. Training Loss: 0.3651\n",
      " -- Epoch 46  Avg. Training Loss: 0.3618\n",
      " -- Epoch 47  Avg. Training Loss: 0.3587\n",
      " -- Epoch 48  Avg. Training Loss: 0.3556\n",
      " -- Epoch 49  Avg. Training Loss: 0.3527\n",
      " -- Epoch 50  Avg. Training Loss: 0.3498\n"
     ]
    }
   ],
   "source": [
    "import tensorflow.compat.v1 as tf\n",
    "tf.disable_v2_behavior()\n",
    "\n",
    "n_features = X_train_centered.shape[1]\n",
    "n_classes = 10\n",
    "random_seed = 123\n",
    "np.random.seed(random_seed)\n",
    "\n",
    "g = tf.Graph()\n",
    "with g.as_default():\n",
    "    tf.set_random_seed(random_seed)\n",
    "    tf_x = tf.placeholder(dtype=tf.float32,\n",
    "                         shape=(None, n_features),\n",
    "                         name='tf_x')\n",
    "    tf_y = tf.placeholder(dtype=tf.int32,\n",
    "                         shape=None,\n",
    "                         name='tf_y')\n",
    "    y_onehot = tf.one_hot(indices=tf_y, depth=n_classes)\n",
    "    h1 = tf.layers.dense(inputs=tf_x,\n",
    "                        units=50,\n",
    "                        activation=tf.tanh,\n",
    "                        name='layer1')\n",
    "    h2 = tf.layers.dense(inputs=h1,\n",
    "                        units=50,\n",
    "                        activation=tf.tanh,\n",
    "                        name='layer2')    \n",
    "    logits = tf.layers.dense(inputs=h2,\n",
    "                            units=10,\n",
    "                            activation=None,\n",
    "                            name='layer3')\n",
    "    predictions = {\n",
    "        'classes' : tf.argmax(logits, axis=1, name='predicted_classes'),\n",
    "        'probabilities' : tf.nn.softmax(logits, name='softmax_tensor')\n",
    "    }\n",
    "    \n",
    "## コスト関数とオプティマイザを定義\n",
    "with g.as_default():\n",
    "    cost = tf.losses.softmax_cross_entropy(onehot_labels=y_onehot,\n",
    "                                          logits=logits)\n",
    "    optimizer = tf.train.GradientDescentOptimizer(learning_rate=0.001)\n",
    "    train_op = optimizer.minimize(loss=cost)\n",
    "    init_op = tf.global_variables_initializer()\n",
    "    \n",
    "def create_batch_generator(X, y, batch_size=128, shuffle=False):\n",
    "    X_copy = np.array(X)\n",
    "    y_copy = np.array(y)\n",
    "    \n",
    "    if shuffle:\n",
    "        data = np.column_stack((X_copy, y_copy))\n",
    "        np.random.shuffle(data)\n",
    "        X_copy = data[:, :-1]\n",
    "        y_copy = data[:, -1].astype(int)\n",
    "        \n",
    "    for i in range(0, X.shape[0], batch_size):\n",
    "        yield (X_copy[i:i+batch_size, :], y_copy[i:i+batch_size])\n",
    "        \n",
    "## 計算グラフを起動するためのセッションを作成\n",
    "sess = tf.Session(graph=g)\n",
    "\n",
    "## 変数のイニシャライザを実行\n",
    "sess.run(init_op)\n",
    "\n",
    "## 50エポックのトレーニング\n",
    "training_costs = []\n",
    "for epoch in range(50):\n",
    "    traing_loss = []\n",
    "    batch_generator = create_batch_generator(X_train_centered, y_train,\n",
    "                                            batch_size=64)\n",
    "    for batch_X, batch_y in batch_generator:\n",
    "        ## ニューラルネットワークにデータを供給するためのディクショナリを準備\n",
    "        feed = {tf_x:batch_X, tf_y:batch_y}\n",
    "        _, batch_cost = sess.run([train_op, cost], feed_dict=feed)\n",
    "        training_costs.append(batch_cost)\n",
    "    print(' -- Epoch %2d  '\n",
    "         'Avg. Training Loss: %.4f' % (epoch + 1, np.mean(training_costs)))"
   ]
  },
  {
   "cell_type": "code",
   "execution_count": 15,
   "metadata": {},
   "outputs": [
    {
     "name": "stdout",
     "output_type": "stream",
     "text": [
      "Test Accuracy: 93.89%\n"
     ]
    }
   ],
   "source": [
    "## テストデータセットで予測を行う\n",
    "feed = {tf_x: X_test_centered}\n",
    "y_pred = sess.run(predictions['classes'], feed_dict=feed)\n",
    "\n",
    "print('Test Accuracy: %.2f%%' %\n",
    "     (100 * np.sum(y_pred == y_test) / y_test.shape[0]))"
   ]
  },
  {
   "cell_type": "code",
   "execution_count": 16,
   "metadata": {},
   "outputs": [
    {
     "name": "stdout",
     "output_type": "stream",
     "text": [
      "Rows: 60000, Columns: 784\n",
      "Rows: 10000, Columns: 784\n",
      "(60000, 784) (60000,)\n",
      "(10000, 784) (10000,)\n"
     ]
    }
   ],
   "source": [
    "X_train, y_train = load_mnist('./', kind='train')\n",
    "print('Rows: %d, Columns: %d' % (X_train.shape[0], X_train.shape[1]))\n",
    "\n",
    "X_test, y_test = load_mnist('./', kind='t10k')\n",
    "print('Rows: %d, Columns: %d' % (X_test.shape[0], X_test.shape[1]))\n",
    "\n",
    "## 標準化と正規化\n",
    "mean_vals = np.mean(X_train, axis=0)\n",
    "std_val = np.std(X_train)\n",
    "\n",
    "X_train_centered = (X_train - mean_vals) / std_val\n",
    "X_test_centerd = (X_test - mean_vals) / std_val\n",
    "\n",
    "del X_train, X_test\n",
    "\n",
    "print(X_train_centered.shape, y_train.shape)\n",
    "\n",
    "print(X_test_centered.shape, y_test.shape)"
   ]
  },
  {
   "cell_type": "code",
   "execution_count": 17,
   "metadata": {},
   "outputs": [
    {
     "name": "stderr",
     "output_type": "stream",
     "text": [
      "Using TensorFlow backend.\n"
     ]
    }
   ],
   "source": [
    "#import tensorflow.compat.v1 as tf\n",
    "#tf.disable_v2_behavior()\n",
    "#import keras\n",
    "\n",
    "#import tensorflow as tf\n",
    "\n",
    "import tensorflow.compat.v1 as tf\n",
    "tf.disable_v2_behavior()\n",
    "import numpy as np\n",
    "import matplotlib.pyplot as plt\n",
    "import sys\n",
    "import gzip\n",
    "import shutil\n",
    "import os\n",
    "import struct\n",
    "\n",
    "import keras\n",
    "\n",
    "np.random.seed(123)\n",
    "tf.set_random_seed(123)"
   ]
  },
  {
   "cell_type": "code",
   "execution_count": 18,
   "metadata": {},
   "outputs": [
    {
     "name": "stdout",
     "output_type": "stream",
     "text": [
      "First 3 labels:  [5 0 4]\n",
      "\n",
      "First 3 labels (one-hot):\n",
      " [[0. 0. 0. 0. 0. 1. 0. 0. 0. 0.]\n",
      " [1. 0. 0. 0. 0. 0. 0. 0. 0. 0.]\n",
      " [0. 0. 0. 0. 1. 0. 0. 0. 0. 0.]]\n"
     ]
    }
   ],
   "source": [
    "y_train_onehot = keras.utils.to_categorical(y_train)\n",
    "print('First 3 labels: ', y_train[:3])\n",
    "\n",
    "print('\\nFirst 3 labels (one-hot):\\n', y_train_onehot[:3])"
   ]
  },
  {
   "cell_type": "code",
   "execution_count": 19,
   "metadata": {},
   "outputs": [],
   "source": [
    "from tensorflow.keras import backend\n",
    "\n",
    "# モデルを初期化\n",
    "model = keras.models.Sequential()\n",
    "\n",
    "# 1つ目の隠れ層を追加\n",
    "model.add(keras.layers.Dense(units=50,\n",
    "                            input_dim = X_train_centered.shape[1],\n",
    "                            kernel_initializer='glorot_uniform',\n",
    "                            bias_initializer='zeros',\n",
    "                            activation='tanh'))\n",
    "# 2つ目の隠れ層を追加\n",
    "model.add(keras.layers.Dense(units=50,\n",
    "                            input_dim=50,\n",
    "                            kernel_initializer='glorot_uniform',\n",
    "                            bias_initializer='zeros',\n",
    "                            activation='tanh'))\n",
    "\n",
    "# 出力層を追加\n",
    "model.add(keras.layers.Dense(units=y_train_onehot.shape[1],\n",
    "                            input_dim=50,\n",
    "                            kernel_initializer='glorot_uniform',\n",
    "                            bias_initializer='zeros',\n",
    "                            activation='softmax'))\n",
    "\n",
    "# モデルコンパイル時のオプティマイザを指定\n",
    "# 引数に学習率、荷重減衰定数、モーメンタム学習を設定\n",
    "sgd_optimizer = keras.optimizers.SGD(lr=0.001, decay=1e-7, momentum=.9)\n",
    "\n",
    "# オプティマイザとコスト関数を指定してモデルをコンパイル\n",
    "model.compile(optimizer=sgd_optimizer, loss='categorical_crossentropy')"
   ]
  },
  {
   "cell_type": "code",
   "execution_count": 20,
   "metadata": {},
   "outputs": [
    {
     "name": "stdout",
     "output_type": "stream",
     "text": [
      "Train on 54000 samples, validate on 6000 samples\n",
      "Epoch 1/50\n",
      "54000/54000 [==============================] - 2s 31us/step - loss: 0.7279 - val_loss: 0.3675\n",
      "Epoch 2/50\n",
      "54000/54000 [==============================] - 2s 30us/step - loss: 0.3736 - val_loss: 0.2835\n",
      "Epoch 3/50\n",
      "54000/54000 [==============================] - 2s 28us/step - loss: 0.3080 - val_loss: 0.2451\n",
      "Epoch 4/50\n",
      "54000/54000 [==============================] - 2s 30us/step - loss: 0.2711 - val_loss: 0.2212\n",
      "Epoch 5/50\n",
      "54000/54000 [==============================] - 1s 27us/step - loss: 0.2453 - val_loss: 0.2035\n",
      "Epoch 6/50\n",
      "54000/54000 [==============================] - 1s 27us/step - loss: 0.2252 - val_loss: 0.1904\n",
      "Epoch 7/50\n",
      "54000/54000 [==============================] - 2s 29us/step - loss: 0.2090 - val_loss: 0.1800\n",
      "Epoch 8/50\n",
      "54000/54000 [==============================] - 2s 30us/step - loss: 0.1951 - val_loss: 0.1716\n",
      "Epoch 9/50\n",
      "54000/54000 [==============================] - 2s 29us/step - loss: 0.1830 - val_loss: 0.1646\n",
      "Epoch 10/50\n",
      "54000/54000 [==============================] - 2s 35us/step - loss: 0.1724 - val_loss: 0.1579\n",
      "Epoch 11/50\n",
      "54000/54000 [==============================] - 2s 28us/step - loss: 0.1632 - val_loss: 0.1541\n",
      "Epoch 12/50\n",
      "54000/54000 [==============================] - 2s 30us/step - loss: 0.1548 - val_loss: 0.1484\n",
      "Epoch 13/50\n",
      "54000/54000 [==============================] - 1s 27us/step - loss: 0.1471 - val_loss: 0.1448\n",
      "Epoch 14/50\n",
      "54000/54000 [==============================] - 1s 25us/step - loss: 0.1403 - val_loss: 0.1416\n",
      "Epoch 15/50\n",
      "54000/54000 [==============================] - 2s 30us/step - loss: 0.1340 - val_loss: 0.1390\n",
      "Epoch 16/50\n",
      "54000/54000 [==============================] - 1s 27us/step - loss: 0.1284 - val_loss: 0.1364\n",
      "Epoch 17/50\n",
      "54000/54000 [==============================] - 2s 28us/step - loss: 0.1231 - val_loss: 0.1338\n",
      "Epoch 18/50\n",
      "54000/54000 [==============================] - 2s 28us/step - loss: 0.1183 - val_loss: 0.1330\n",
      "Epoch 19/50\n",
      "54000/54000 [==============================] - 1s 25us/step - loss: 0.1138 - val_loss: 0.1301\n",
      "Epoch 20/50\n",
      "54000/54000 [==============================] - 1s 26us/step - loss: 0.1095 - val_loss: 0.1291\n",
      "Epoch 21/50\n",
      "54000/54000 [==============================] - 1s 25us/step - loss: 0.1057 - val_loss: 0.1280\n",
      "Epoch 22/50\n",
      "54000/54000 [==============================] - 1s 25us/step - loss: 0.1021 - val_loss: 0.1271\n",
      "Epoch 23/50\n",
      "54000/54000 [==============================] - 1s 26us/step - loss: 0.0986 - val_loss: 0.1256\n",
      "Epoch 24/50\n",
      "54000/54000 [==============================] - 1s 26us/step - loss: 0.0954 - val_loss: 0.1246\n",
      "Epoch 25/50\n",
      "54000/54000 [==============================] - 1s 27us/step - loss: 0.0923 - val_loss: 0.1239\n",
      "Epoch 26/50\n",
      "54000/54000 [==============================] - 2s 34us/step - loss: 0.0893 - val_loss: 0.1232\n",
      "Epoch 27/50\n",
      "54000/54000 [==============================] - 2s 30us/step - loss: 0.0865 - val_loss: 0.1224\n",
      "Epoch 28/50\n",
      "54000/54000 [==============================] - 2s 32us/step - loss: 0.0838 - val_loss: 0.1227\n",
      "Epoch 29/50\n",
      "54000/54000 [==============================] - 2s 28us/step - loss: 0.0813 - val_loss: 0.1213\n",
      "Epoch 30/50\n",
      "54000/54000 [==============================] - 1s 28us/step - loss: 0.0788 - val_loss: 0.1208\n",
      "Epoch 31/50\n",
      "54000/54000 [==============================] - 1s 27us/step - loss: 0.0765 - val_loss: 0.1196\n",
      "Epoch 32/50\n",
      "54000/54000 [==============================] - 1s 26us/step - loss: 0.0743 - val_loss: 0.1200\n",
      "Epoch 33/50\n",
      "54000/54000 [==============================] - 1s 27us/step - loss: 0.0720 - val_loss: 0.1191\n",
      "Epoch 34/50\n",
      "54000/54000 [==============================] - 1s 27us/step - loss: 0.0699 - val_loss: 0.1182\n",
      "Epoch 35/50\n",
      "54000/54000 [==============================] - 1s 27us/step - loss: 0.0681 - val_loss: 0.1185\n",
      "Epoch 36/50\n",
      "54000/54000 [==============================] - 1s 28us/step - loss: 0.0661 - val_loss: 0.1192\n",
      "Epoch 37/50\n",
      "54000/54000 [==============================] - 1s 27us/step - loss: 0.0642 - val_loss: 0.1183\n",
      "Epoch 38/50\n",
      "54000/54000 [==============================] - 2s 28us/step - loss: 0.0624 - val_loss: 0.1177\n",
      "Epoch 39/50\n",
      "54000/54000 [==============================] - 1s 27us/step - loss: 0.0607 - val_loss: 0.1173\n",
      "Epoch 40/50\n",
      "54000/54000 [==============================] - 1s 27us/step - loss: 0.0590 - val_loss: 0.1170\n",
      "Epoch 41/50\n",
      "54000/54000 [==============================] - 1s 27us/step - loss: 0.0573 - val_loss: 0.1176\n",
      "Epoch 42/50\n",
      "54000/54000 [==============================] - 1s 27us/step - loss: 0.0558 - val_loss: 0.1173\n",
      "Epoch 43/50\n",
      "54000/54000 [==============================] - 1s 27us/step - loss: 0.0542 - val_loss: 0.1173\n",
      "Epoch 44/50\n",
      "54000/54000 [==============================] - 1s 27us/step - loss: 0.0527 - val_loss: 0.1165\n",
      "Epoch 45/50\n",
      "54000/54000 [==============================] - 1s 27us/step - loss: 0.0513 - val_loss: 0.1164\n",
      "Epoch 46/50\n",
      "54000/54000 [==============================] - 2s 28us/step - loss: 0.0499 - val_loss: 0.1167\n",
      "Epoch 47/50\n",
      "54000/54000 [==============================] - 1s 27us/step - loss: 0.0486 - val_loss: 0.1172\n",
      "Epoch 48/50\n",
      "54000/54000 [==============================] - 1s 27us/step - loss: 0.0473 - val_loss: 0.1171\n",
      "Epoch 49/50\n",
      "54000/54000 [==============================] - 1s 27us/step - loss: 0.0461 - val_loss: 0.1173\n",
      "Epoch 50/50\n",
      "54000/54000 [==============================] - 1s 27us/step - loss: 0.0448 - val_loss: 0.1167\n"
     ]
    }
   ],
   "source": [
    "history = model.fit(X_train_centered,\n",
    "                   y_train_onehot,\n",
    "                   batch_size=64,\n",
    "                   epochs=50,\n",
    "                   verbose=1,\n",
    "                   validation_split=0.1)"
   ]
  },
  {
   "cell_type": "code",
   "execution_count": 21,
   "metadata": {},
   "outputs": [
    {
     "name": "stdout",
     "output_type": "stream",
     "text": [
      "First 3 predictions:  [5 0 4]\n"
     ]
    }
   ],
   "source": [
    "y_train_pred = model.predict_classes(X_train_centered, verbose=0)\n",
    "print('First 3 predictions: ', y_train_pred[:3])"
   ]
  },
  {
   "cell_type": "code",
   "execution_count": 22,
   "metadata": {},
   "outputs": [
    {
     "name": "stdout",
     "output_type": "stream",
     "text": [
      "First 3 predictions  [5 0 4]\n",
      "Training accuracy: 98.93%\n",
      "Test accuracy: 96.13%\n"
     ]
    }
   ],
   "source": [
    "y_train_pred = model.predict_classes(X_train_centered, verbose=0)\n",
    "correct_preds = np.sum(y_train == y_train_pred, axis=0)\n",
    "train_acc = correct_preds / y_train.shape[0]\n",
    "print('First 3 predictions ', y_train_pred[:3])\n",
    "\n",
    "print('Training accuracy: %.2f%%' % (train_acc * 100))\n",
    "\n",
    "y_test_pred = model.predict_classes(X_test_centered, verbose=0)\n",
    "correct_preds = np.sum(y_test == y_test_pred, axis=0)\n",
    "test_acc = correct_preds / y_test.shape[0]\n",
    "print('Test accuracy: %.2f%%' % (test_acc * 100))"
   ]
  },
  {
   "cell_type": "code",
   "execution_count": 23,
   "metadata": {},
   "outputs": [
    {
     "name": "stdout",
     "output_type": "stream",
     "text": [
      "P(y=1|x) = 0.888\n"
     ]
    }
   ],
   "source": [
    "import numpy as np\n",
    "X = np.array([1, 1.4, 2.5]) # 1つ目の値は1でなければならない\n",
    "w = np.array([0.4, 0.3, 0.5])\n",
    "def net_input(X, w):\n",
    "    return np.dot(X, w)\n",
    "\n",
    "def logistic(z):\n",
    "    return 1.0 / (1.0 + np.exp(-z))\n",
    "\n",
    "def logistic_activation(X, w):\n",
    "    z = net_input(X, w)\n",
    "    return logistic(z)\n",
    "\n",
    "print('P(y=1|x) = %.3f' % logistic_activation(X, w))"
   ]
  },
  {
   "cell_type": "code",
   "execution_count": 24,
   "metadata": {},
   "outputs": [
    {
     "name": "stdout",
     "output_type": "stream",
     "text": [
      "Net Input: \n",
      " [1.78 0.76 1.65]\n",
      "Output Units:\n",
      " [0.85569687 0.68135373 0.83889105]\n"
     ]
    }
   ],
   "source": [
    "# W : array, shape = (n_output_units, n_hidden_units+1)\n",
    "#     この配列の最初の列(w[:][0])はバイアスユニット\n",
    "W = np.array([[1.1, 1.2, 0.8, 0.4],\n",
    "              [0.2, 0.4, 1.0, 0.2],\n",
    "              [0.6, 1.5, 1.2, 0.7]])\n",
    "\n",
    "# A : array, shape = (n_hidden_units + 1, n_samples)\n",
    "#     この配列の最初の列(A[0][0])は1でなければならない\n",
    "A = np.array([[1, 0.1, 0.4, 0.6]])\n",
    "\n",
    "# Z : array, shape = [n_output_units, n_samples]\n",
    "#     出力層の総出力\n",
    "Z = np.dot(W, A[0])\n",
    "y_probas = logistic(Z)\n",
    "print('Net Input: \\n', Z)\n",
    "\n",
    "print('Output Units:\\n', y_probas)"
   ]
  },
  {
   "cell_type": "code",
   "execution_count": 25,
   "metadata": {},
   "outputs": [
    {
     "name": "stdout",
     "output_type": "stream",
     "text": [
      "Predicted class label: 0\n"
     ]
    }
   ],
   "source": [
    "y_class = np.argmax(Z, axis=0)\n",
    "print('Predicted class label: %d' % y_class)"
   ]
  },
  {
   "cell_type": "code",
   "execution_count": 26,
   "metadata": {},
   "outputs": [
    {
     "name": "stdout",
     "output_type": "stream",
     "text": [
      "Probabilities:\n",
      " [0.44668973 0.16107406 0.39223621]\n"
     ]
    },
    {
     "data": {
      "text/plain": [
       "1.0"
      ]
     },
     "execution_count": 26,
     "metadata": {},
     "output_type": "execute_result"
    }
   ],
   "source": [
    "def softmax(z):\n",
    "    return np.exp(z) / np.sum(np.exp(z))\n",
    "\n",
    "y_probas = softmax(Z)\n",
    "print('Probabilities:\\n', y_probas)\n",
    "\n",
    "np.sum(y_probas)"
   ]
  },
  {
   "cell_type": "code",
   "execution_count": 27,
   "metadata": {},
   "outputs": [
    {
     "data": {
      "image/png": "[encoded data removed]",
      "text/plain": [
       "<Figure size 432x288 with 1 Axes>"
      ]
     },
     "metadata": {
      "needs_background": "light"
     },
     "output_type": "display_data"
    }
   ],
   "source": [
    "import matplotlib.pyplot as plt\n",
    "\n",
    "def tanh(z):\n",
    "    e_p = np.exp(z)\n",
    "    e_m = np.exp(-z)\n",
    "    return (e_p - e_m) / (e_p + e_m)\n",
    "\n",
    "z = np.arange(-5, 5, 0.005)\n",
    "log_act = logistic(z)\n",
    "tanh_act = tanh(z)\n",
    "plt.ylim([-1.5, 1.5])\n",
    "plt.xlabel('net input $z$')\n",
    "plt.ylabel('activation $\\phi(z)$')\n",
    "plt.axhline(1, color='black', linestyle=':')\n",
    "plt.axhline(0.5, color='black', linestyle=':')\n",
    "plt.axhline(0, color='black', linestyle=':')\n",
    "plt.axhline(-0.5, color='black', linestyle=':')\n",
    "plt.axhline(-1, color='black', linestyle=':')\n",
    "plt.plot(z, tanh_act, linewidth=3, linestyle='--', label='tanh')\n",
    "plt.plot(z, log_act, linewidth=3, label='logistic')\n",
    "plt.legend(loc='lower right')\n",
    "plt.tight_layout()\n",
    "plt.show()"
   ]
  },
  {
   "cell_type": "code",
   "execution_count": 28,
   "metadata": {},
   "outputs": [],
   "source": [
    "tanh_act = np.tanh(z)\n",
    "\n",
    "from scipy.special import expit\n",
    "log_act = expit(z)"
   ]
  }
 ],
 "metadata": {
  "kernelspec": {
   "display_name": "Python 3",
   "language": "python",
   "name": "python3"
  },
  "language_info": {
   "codemirror_mode": {
    "name": "ipython",
    "version": 3
   },
   "file_extension": ".py",
   "mimetype": "text/x-python",
   "name": "python",
   "nbconvert_exporter": "python",
   "pygments_lexer": "ipython3",
   "version": "3.6.7"
  }
 },
 "nbformat": 4,
 "nbformat_minor": 2
}
